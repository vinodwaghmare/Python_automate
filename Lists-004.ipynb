{
 "cells": [
  {
   "cell_type": "code",
   "execution_count": 1,
   "id": "51b4b293",
   "metadata": {},
   "outputs": [],
   "source": [
    "spam = ['cat', 'bat', 'rat', 'elephant']"
   ]
  },
  {
   "cell_type": "code",
   "execution_count": 2,
   "id": "29d7a886",
   "metadata": {},
   "outputs": [
    {
     "data": {
      "text/plain": [
       "['bat', 'rat']"
      ]
     },
     "execution_count": 2,
     "metadata": {},
     "output_type": "execute_result"
    }
   ],
   "source": [
    "spam[1:3]"
   ]
  },
  {
   "cell_type": "code",
   "execution_count": 4,
   "id": "92f8581b",
   "metadata": {},
   "outputs": [
    {
     "data": {
      "text/plain": [
       "['cat', 'bat', 'rat']"
      ]
     },
     "execution_count": 4,
     "metadata": {},
     "output_type": "execute_result"
    }
   ],
   "source": [
    "spam[0:-1]"
   ]
  },
  {
   "cell_type": "code",
   "execution_count": 5,
   "id": "e797f82a",
   "metadata": {},
   "outputs": [],
   "source": [
    "spam[2] = spam[1]"
   ]
  },
  {
   "cell_type": "code",
   "execution_count": 8,
   "id": "3035e2e3",
   "metadata": {},
   "outputs": [
    {
     "data": {
      "text/plain": [
       "['cat', 'bat', 'elephant']"
      ]
     },
     "execution_count": 8,
     "metadata": {},
     "output_type": "execute_result"
    }
   ],
   "source": [
    "spam"
   ]
  },
  {
   "cell_type": "code",
   "execution_count": 7,
   "id": "239fced7",
   "metadata": {},
   "outputs": [],
   "source": [
    "del spam[2]"
   ]
  },
  {
   "cell_type": "code",
   "execution_count": 9,
   "id": "93ad5050",
   "metadata": {},
   "outputs": [
    {
     "name": "stdout",
     "output_type": "stream",
     "text": [
      "Index 0 in supplies is: pens\n",
      "Index 1 in supplies is: staplers\n",
      "Index 2 in supplies is: flamethrowers\n",
      "Index 3 in supplies is: binders\n"
     ]
    }
   ],
   "source": [
    "supplies = ['pens', 'staplers', 'flamethrowers', 'binders']\n",
    "for i in range(len(supplies)):\n",
    "    print('Index ' + str(i) + ' in supplies is: ' + supplies[i])"
   ]
  },
  {
   "cell_type": "code",
   "execution_count": 10,
   "id": "a66b9d40",
   "metadata": {},
   "outputs": [
    {
     "data": {
      "text/plain": [
       "True"
      ]
     },
     "execution_count": 10,
     "metadata": {},
     "output_type": "execute_result"
    }
   ],
   "source": [
    "'howdy' in ['hello', 'hi', 'howdy', 'heyas']"
   ]
  },
  {
   "cell_type": "code",
   "execution_count": null,
   "id": "3c74b302",
   "metadata": {},
   "outputs": [],
   "source": [
    "cat = ['fat', 'gray', 'loud']\n",
    "size, color, disposition = cat"
   ]
  },
  {
   "cell_type": "code",
   "execution_count": 1,
   "id": "a32b1615",
   "metadata": {},
   "outputs": [
    {
     "name": "stdout",
     "output_type": "stream",
     "text": [
      "0 pens\n",
      "1 staplers\n",
      "2 flamethrowers\n",
      "3 binders\n"
     ]
    }
   ],
   "source": [
    "supplies = ['pens', 'staplers', 'flamethrowers', 'binders']\n",
    "\n",
    "for index, item in enumerate(supplies):\n",
    "    print(index, item)\n"
   ]
  },
  {
   "cell_type": "code",
   "execution_count": 3,
   "id": "37ce5a0a",
   "metadata": {},
   "outputs": [
    {
     "name": "stdout",
     "output_type": "stream",
     "text": [
      "Moose\n"
     ]
    }
   ],
   "source": [
    "import random\n",
    "\n",
    "pets = ['Dog', 'Cat', 'Moose']\n",
    "\n",
    "print(random.choice(pets))\n"
   ]
  },
  {
   "cell_type": "code",
   "execution_count": 7,
   "id": "74b1c156",
   "metadata": {},
   "outputs": [
    {
     "data": {
      "text/plain": [
       "'Cat'"
      ]
     },
     "execution_count": 7,
     "metadata": {},
     "output_type": "execute_result"
    }
   ],
   "source": [
    "pets[random.randint(0, len(pets) - 1)]"
   ]
  },
  {
   "cell_type": "code",
   "execution_count": 9,
   "id": "937ea359",
   "metadata": {},
   "outputs": [
    {
     "name": "stdout",
     "output_type": "stream",
     "text": [
      "['Bob', 'Carol', 'David', 'Alice']\n"
     ]
    }
   ],
   "source": [
    "import random\n",
    "people = ['Alice', 'Bob', 'Carol', 'David']\n",
    "random.shuffle(people)\n",
    "print(people)"
   ]
  },
  {
   "cell_type": "code",
   "execution_count": 10,
   "id": "c8f133e3",
   "metadata": {},
   "outputs": [
    {
     "data": {
      "text/plain": [
       "['cat', 'dog', 'bat', 'moose']"
      ]
     },
     "execution_count": 10,
     "metadata": {},
     "output_type": "execute_result"
    }
   ],
   "source": [
    "spam = ['cat', 'dog', 'bat']\n",
    "spam.append('moose')\n",
    "spam"
   ]
  },
  {
   "cell_type": "code",
   "execution_count": 11,
   "id": "b852d9a8",
   "metadata": {},
   "outputs": [
    {
     "data": {
      "text/plain": [
       "['cat', 'chicken', 'dog', 'bat']"
      ]
     },
     "execution_count": 11,
     "metadata": {},
     "output_type": "execute_result"
    }
   ],
   "source": [
    "spam = ['cat', 'dog', 'bat']\n",
    "spam.insert(1, 'chicken')\n",
    "spam"
   ]
  },
  {
   "cell_type": "code",
   "execution_count": 12,
   "id": "28197974",
   "metadata": {},
   "outputs": [
    {
     "data": {
      "text/plain": [
       "['cat', 'rat', 'elephant']"
      ]
     },
     "execution_count": 12,
     "metadata": {},
     "output_type": "execute_result"
    }
   ],
   "source": [
    "spam = ['cat', 'bat', 'rat', 'elephant']\n",
    "spam.remove('bat')\n",
    "spam"
   ]
  },
  {
   "cell_type": "code",
   "execution_count": 13,
   "id": "0e801a34",
   "metadata": {},
   "outputs": [
    {
     "data": {
      "text/plain": [
       "[-7, 1, 2, 3.14, 5]"
      ]
     },
     "execution_count": 13,
     "metadata": {},
     "output_type": "execute_result"
    }
   ],
   "source": [
    "spam = [2, 5, 3.14, 1, -7]\n",
    "spam.sort()\n",
    "spam"
   ]
  },
  {
   "cell_type": "code",
   "execution_count": 14,
   "id": "5c587c69",
   "metadata": {},
   "outputs": [
    {
     "data": {
      "text/plain": [
       "1835716757232"
      ]
     },
     "execution_count": 14,
     "metadata": {},
     "output_type": "execute_result"
    }
   ],
   "source": [
    "id(\"Howdy\")"
   ]
  },
  {
   "cell_type": "code",
   "execution_count": null,
   "id": "71768f6d",
   "metadata": {},
   "outputs": [
    {
     "name": "stdout",
     "output_type": "stream",
     "text": [
      "1835717140928\n",
      "1835717140928\n"
     ]
    }
   ],
   "source": [
    "eggs = ['cat', 'dog']   # this is a new list\n",
    "print(id(eggs))             \n",
    "eggs.append('moose')    # append modifies list in place\n",
    "print(id(eggs))\n",
    "eggs = [\"bat\",\"rat\",\"cow\"]   #this create new list with new identity\n"
   ]
  },
  {
   "cell_type": "code",
   "execution_count": null,
   "id": "ecab607d",
   "metadata": {},
   "outputs": [
    {
     "name": "stdout",
     "output_type": "stream",
     "text": [
      "[1, 2, 3, 'Hello']\n"
     ]
    }
   ],
   "source": [
    "# spam and someParameters references to same list\n",
    "def eggs(someParameter):\n",
    "    someParameter.append('Hello')\n",
    "spam = [1, 2, 3]\n",
    "eggs(spam)\n",
    "print(spam)\n",
    "\n"
   ]
  },
  {
   "cell_type": "markdown",
   "id": "ea9d53cc",
   "metadata": {},
   "source": [
    "### The copy Module’s copy() and deepcopy() Functions\n"
   ]
  },
  {
   "cell_type": "markdown",
   "id": "feed7991",
   "metadata": {},
   "source": [
    "#### The first of these, copy.copy(), can be used to make a duplicate copy of a mutable value like a list or dictionary, "
   ]
  },
  {
   "cell_type": "code",
   "execution_count": null,
   "id": "28c03daa",
   "metadata": {},
   "outputs": [
    {
     "name": "stdout",
     "output_type": "stream",
     "text": [
      "1835717213504\n",
      "1835717552384\n",
      "['A', 'B', 'C', 'D']\n",
      "['A', 42, 'C', 'D']\n"
     ]
    }
   ],
   "source": [
    "# here spam and cheese both refers to separate lists\n",
    "import copy\n",
    "\n",
    "spam = [\"A\",\"B\",\"C\",\"D\"]\n",
    "print(id(spam))\n",
    "\n",
    "cheese = copy.copy(spam)\n",
    "print(id(cheese))\n",
    "cheese[1] = 42\n",
    "print(spam)\n",
    "print(cheese)"
   ]
  },
  {
   "cell_type": "code",
   "execution_count": 36,
   "id": "ac4c0293",
   "metadata": {},
   "outputs": [
    {
     "name": "stdout",
     "output_type": "stream",
     "text": [
      "1835723547520\n",
      "1835723605184\n",
      "['A', 'B', 'C', 'D', 'K']\n",
      "['A', 'B', 'C', 'D', ['E', 'F']]\n"
     ]
    }
   ],
   "source": [
    "# here spam and cheese both refers to separate lists\n",
    "import copy\n",
    "\n",
    "cool = [\"A\",\"B\",\"C\",\"D\",[\"E\",\"F\"]]\n",
    "print(id(cool))\n",
    "hot = copy.deepcopy(cool)\n",
    "print(id(hot))\n",
    "cool[-1] = \"K\"\n",
    "print(cool)\n",
    "print(hot)"
   ]
  },
  {
   "cell_type": "code",
   "execution_count": null,
   "id": "30052c64",
   "metadata": {},
   "outputs": [
    {
     "name": "stdout",
     "output_type": "stream",
     "text": [
      "[[1, 2], [3, 4], 0] 1835723629376\n",
      "[[1, 2], [3, 4], 6] 1835723495104\n",
      "[[1, 2], [3, 4], 6] 1835723504448\n"
     ]
    }
   ],
   "source": [
    "# Here outer list element of orginal element is changed of particular index so both types of copies reflect\n",
    "original = [[1,2],[3,4],6]\n",
    "shallow = copy.copy(original)\n",
    "deep = copy.deepcopy(original)\n",
    "\n",
    "original[-1] = 0\n",
    "\n",
    "print(original, id(original))    \n",
    "print(shallow, id(shallow))     # it shares same inner lists, it also sees the change\n",
    "print(deep,id(deep))            # it owns  separate inner lists, so it remains unchanged"
   ]
  },
  {
   "cell_type": "code",
   "execution_count": null,
   "id": "b0d28d8e",
   "metadata": {},
   "outputs": [
    {
     "name": "stdout",
     "output_type": "stream",
     "text": [
      "[[99, 2], [3, 4], 6] 1835723494848\n",
      "[[99, 2], [3, 4], 6] 1835716904384\n",
      "[[1, 2], [3, 4], 6] 1835723572672\n"
     ]
    }
   ],
   "source": [
    "# Here inner list element of orginal element is changed of particular index so shallow relects change \n",
    "# but deepcopy remains unchanged\n",
    "\n",
    "original = [[1,2],[3,4],6]\n",
    "shallow = copy.copy(original)\n",
    "deep = copy.deepcopy(original)\n",
    "\n",
    "original[0][0] = 99\n",
    "\n",
    "print(original, id(original))    \n",
    "print(shallow, id(shallow))     # it shares same inner lists, it also sees the change\n",
    "print(deep,id(deep))            # it owns  separate inner lists, so it remains unchanged"
   ]
  },
  {
   "cell_type": "code",
   "execution_count": null,
   "id": "1a604eca",
   "metadata": {},
   "outputs": [],
   "source": []
  }
 ],
 "metadata": {
  "kernelspec": {
   "display_name": "venv",
   "language": "python",
   "name": "python3"
  },
  "language_info": {
   "codemirror_mode": {
    "name": "ipython",
    "version": 3
   },
   "file_extension": ".py",
   "mimetype": "text/x-python",
   "name": "python",
   "nbconvert_exporter": "python",
   "pygments_lexer": "ipython3",
   "version": "3.13.3"
  }
 },
 "nbformat": 4,
 "nbformat_minor": 5
}

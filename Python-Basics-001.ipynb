{
 "cells": [
  {
   "cell_type": "code",
   "execution_count": 1,
   "id": "dad00f53",
   "metadata": {},
   "outputs": [],
   "source": [
    "b= 2"
   ]
  },
  {
   "cell_type": "code",
   "execution_count": 3,
   "id": "31d850bf",
   "metadata": {},
   "outputs": [
    {
     "name": "stdout",
     "output_type": "stream",
     "text": [
      "Alice Bob\n"
     ]
    }
   ],
   "source": [
    "c = 'Alice ' + 'Bob'\n",
    "print(c)"
   ]
  },
  {
   "cell_type": "code",
   "execution_count": 1,
   "id": "686a91cc",
   "metadata": {},
   "outputs": [],
   "source": [
    "myname = input('Hi')"
   ]
  },
  {
   "cell_type": "code",
   "execution_count": null,
   "id": "e893eb4b",
   "metadata": {},
   "outputs": [],
   "source": []
  },
  {
   "cell_type": "code",
   "execution_count": null,
   "id": "46f84829",
   "metadata": {},
   "outputs": [],
   "source": []
  }
 ],
 "metadata": {
  "kernelspec": {
   "display_name": "venv",
   "language": "python",
   "name": "python3"
  },
  "language_info": {
   "codemirror_mode": {
    "name": "ipython",
    "version": 3
   },
   "file_extension": ".py",
   "mimetype": "text/x-python",
   "name": "python",
   "nbconvert_exporter": "python",
   "pygments_lexer": "ipython3",
   "version": "3.13.3"
  }
 },
 "nbformat": 4,
 "nbformat_minor": 5
}
